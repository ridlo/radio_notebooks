{
 "cells": [
  {
   "cell_type": "markdown",
   "metadata": {
    "collapsed": true
   },
   "source": [
    "**Technical Note**:\n",
    "- Install <code>deap</code> in ALMA cluster without root user<br>\n",
    "    <code>pip install --user deap</code><br>\n",
    "  Then it is automatically included in CASA environment<br>\n",
    "\n"
   ]
  },
  {
   "cell_type": "markdown",
   "metadata": {
    "collapsed": true
   },
   "source": [
    "## First Run\n",
    "\n",
    "I use parameters as follow:\n",
    "\n",
    "Function setting\n",
    "- Objective function is to minimize the RMS\n",
    "- using 10 MS from B6\n",
    "- visweight of the first MS set to 1, the other (9) as free parameter that we want to find. We can try to set all of the visweight as free parameter. \n",
    "- visweight is generated as uniform random variable from 0 to 4\n",
    "- CLEAN parameter:\n",
    "    - niter          = 500\n",
    "    - threshold      = \"0.035mJy\"\n",
    "    - psfmode        = 'clark'\n",
    "    - interactive    = False \n",
    "    - mask           = \"circle[[65.8158364deg, -1.3425182deg], 5arcsec]\"\n",
    "    - imsize         = 1250\n",
    "    - cell           = \"0.04arcsec\"\n",
    "    - phasecenter    = \"J2000 04:23:15.800730 -01.20.33.065501\"\n",
    "    - weighting      = 'briggs'\n",
    "    - robust         = 0.5\n",
    "    - pbcor          = False\n",
    "- Region to calculate RMS with imstat: \n",
    "    - regionrms      = \"annulus[[65.8158364deg, -1.3425182deg], [5arcsec, 15arcsec]]\"\n",
    "\n",
    "GA setting:\n",
    "- Simple GA steps: selection, crossover, and mutation\n",
    "- Population size: 10\n",
    "- Insert 3 best guess at first generation (weight based on 1/rms^2 and all 1 (no weight scale))\n",
    "- GA iteration/generation: 20\n",
    "- crossover probability: 0.5\n",
    "- probability of individu get a mutation: 0.1\n",
    "- DNA mutation probability: 0.8\n",
    "- \n",
    "\n",
    "Finished < 6 hours  \n",
    "\n",
    "**Final result**:\n",
    "\n",
    "- Best of the best:         [0.0, 1.071, 1, 1, 0.8, 0.0, 0.08, 0.05, 0.05] + first MS weight (always) 1 \n",
    "\n",
    "    with fitness (rms) = 3.1720439437776804e-05\n",
    "\n",
    "- total evaluation \"concat+clean process\" : 164 (if the population always change (mutate) it should be 10 x 20=200)\n",
    "\n",
    "\n",
    "**Comments**:\n",
    "\n",
    "1. compare to 1/rms^2 scale: [0.55, 0.82, 0.34, 0.28, 0.80, 0.37, 0.08, 0.05, 0.05] + first MS weight (always) 1\n",
    "    (with rms ~ 3.4uJy after 1000 iteration)\n",
    "    \n",
    "    the final result (best of the best) parameter above is a bit weird: we can achieve comparably (lower) rms without including 2nd MS and 7th MS (0.0 in weight)?\n",
    "\n",
    "2. something weird on 2nd MS (0th in plot below) the weight-value can change from 0 to 3 without changing much of rms. -> divergent case, \n",
    "\n",
    "3. we can check the data of 2nd MS, my guess is maybe because it is redundat with the 1st MS that we set to 1, they are from same EB, 1st is as bandpass calibrator, 2nd as phase calib, or vice versa (I don't remember ;) ).\n",
    "\n",
    "4. From the best result, it seems that CLEAN can achieve the threshold (35uJy) before iter_max reached (500 iterations). So, for next testing we should just set the threshold to 0.0, so all CLEANing process have same number of iteration (stoped because of iter_max)\n",
    "\n",
    "\n",
    "\n",
    "\n",
    "This plot is statistics of population as function of generation, x-axis is generation/iteration, y-axis is fitness (rms), and statistics shown are minimum (best), average, and maximum.\n",
    "![](stat_fitness.png)\n",
    "\n",
    "---\n",
    "\n",
    "\n",
    "I plot the parameter of \"best individu\" in population as function of generation.\n",
    "0 - 8 means weight of the 2nd MS to 10th MS. x-axis is generation/iteration, y-axis is weight of each MS.\n",
    "![](best_weight_on_iteration.png)\n",
    "\n",
    "\n",
    "\n"
   ]
  },
  {
   "cell_type": "markdown",
   "metadata": {},
   "source": [
    "\n",
    "---\n",
    "## Second Run\n",
    "\n"
   ]
  },
  {
   "cell_type": "code",
   "execution_count": null,
   "metadata": {
    "collapsed": true
   },
   "outputs": [],
   "source": []
  }
 ],
 "metadata": {
  "kernelspec": {
   "display_name": "Python 2",
   "language": "python",
   "name": "python2"
  },
  "language_info": {
   "codemirror_mode": {
    "name": "ipython",
    "version": 2
   },
   "file_extension": ".py",
   "mimetype": "text/x-python",
   "name": "python",
   "nbconvert_exporter": "python",
   "pygments_lexer": "ipython2",
   "version": "2.7.13"
  }
 },
 "nbformat": 4,
 "nbformat_minor": 2
}
