{
 "cells": [
  {
   "cell_type": "code",
   "execution_count": 1,
   "metadata": {
    "collapsed": false
   },
   "outputs": [],
   "source": [
    "from ALMAQueryCal import *\n",
    "import astroquery.alma\n",
    "import astropy\n",
    "import astroquery\n",
    "from astroquery.alma import Alma\n",
    "astroquery.alma.conf.timeout=30"
   ]
  },
  {
   "cell_type": "code",
   "execution_count": 2,
   "metadata": {
    "collapsed": false
   },
   "outputs": [
    {
     "name": "stdout",
     "output_type": "stream",
     "text": [
      "1.2.1 \n",
      "0.3.1\n"
     ]
    }
   ],
   "source": [
    "print astropy.__version__, \"\\n\", astroquery.__version__"
   ]
  },
  {
   "cell_type": "code",
   "execution_count": 3,
   "metadata": {
    "collapsed": false
   },
   "outputs": [
    {
     "data": {
      "text/plain": [
       "[['J2253+1608', 343.490616421, 16.148211353],\n",
       " ['J0319+4130', 49.950667146, 41.511696031],\n",
       " ['J1256-0547', 194.046529167, -5.7893125],\n",
       " ['J1229+0203', 187.277916667, 2.052388333],\n",
       " ['J2202+4216', 330.680380717, 42.277772208],\n",
       " ['J1751+0939', 267.88674405, 9.650202342],\n",
       " ['J1058+0133', 164.623354167, 1.56634],\n",
       " ['J0433+0521', 68.296231388, 5.354338689],\n",
       " ['J0522-3627', 80.741604167, -36.458569722],\n",
       " ['J2015+3710', 303.869707342, 37.183198828],\n",
       " ['J1924-2914', 291.212733154, -29.241700286],\n",
       " ['J1337-1257', 204.4157625, -12.956859167],\n",
       " ['J1635+3808', 248.814554063, 38.134583481],\n",
       " ['J0418+3801', 64.58865515, 38.026611175],\n",
       " ['J0725-0054', 111.460999817, -0.915706733],\n",
       " ['J0006-0623', 1.5578875, -6.393148611],\n",
       " ['J0927+3902', 141.762558075, 39.039125511],\n",
       " ['J1512-0905', 228.210553863, -9.099952697],\n",
       " ['J0854+2006', 133.703645833, 20.108511389],\n",
       " ['J0108+0135', 17.161546283, 1.583421467],\n",
       " ['J1642+3948', 250.745041667, 39.810276111],\n",
       " ['J0238+1636', 39.662208779, 16.616465172],\n",
       " ['J0510+1800', 77.509870833, 18.011550556],\n",
       " ['J1549+0237', 237.372653521, 2.6169898],\n",
       " ['J0102+5824', 15.690676583, 58.403093514],\n",
       " ['J2000-1748', 300.237876854, -17.816020164]]"
      ]
     },
     "execution_count": 3,
     "metadata": {},
     "output_type": "execute_result"
    }
   ],
   "source": [
    "fileCal = \"CalSept2015.list\"\n",
    "q       = queryCal(fileCal, fluxmin = 3.0)\n",
    "q.listCal"
   ]
  },
  {
   "cell_type": "code",
   "execution_count": 4,
   "metadata": {
    "collapsed": false
   },
   "outputs": [],
   "source": [
    "data = q.queryAlma(q.listCal, public=False)"
   ]
  },
  {
   "cell_type": "code",
   "execution_count": 5,
   "metadata": {
    "collapsed": false
   },
   "outputs": [
    {
     "name": "stdout",
     "output_type": "stream",
     "text": [
      "0 : error\n",
      "1 : error\n",
      "2 : error\n",
      "3 : error\n",
      "[['J2202+4216', 330.680380717, 42.277772208], <Table masked=True length=0>\n",
      "Project code Source name    RA   ... Largest angular scale QA2 Status  Pub \n",
      "                           deg   ...          arcs                         \n",
      "   str16        str256   float64 ...        float64           str1    int32\n",
      "------------ ----------- ------- ... --------------------- ---------- -----]\n",
      "4 : success\n",
      "5 : error\n",
      "6 : error\n",
      "7 : error\n",
      "8 : error\n",
      "[['J2015+3710', 303.869707342, 37.183198828], <Table masked=True length=0>\n",
      "Project code Source name    RA   ... Largest angular scale QA2 Status  Pub \n",
      "                           deg   ...          arcs                         \n",
      "   str16        str256   float64 ...        float64           str1    int32\n",
      "------------ ----------- ------- ... --------------------- ---------- -----]\n",
      "9 : success\n",
      "10 : error\n",
      "11 : error\n",
      "[['J1635+3808', 248.814554063, 38.134583481], <Table masked=True length=0>\n",
      "Project code Source name    RA   ... Largest angular scale QA2 Status  Pub \n",
      "                           deg   ...          arcs                         \n",
      "   str16        str256   float64 ...        float64           str1    int32\n",
      "------------ ----------- ------- ... --------------------- ---------- -----]\n",
      "12 : success\n",
      "13 : error\n",
      "14 : error\n",
      "15 : error\n",
      "16 : error\n",
      "17 : error\n",
      "18 : error\n",
      "19 : error\n",
      "20 : error\n",
      "21 : error\n",
      "22 : error\n",
      "23 : error\n",
      "[['J0102+5824', 15.690676583, 58.403093514], <Table masked=True length=0>\n",
      "Project code Source name    RA   ... Largest angular scale QA2 Status  Pub \n",
      "                           deg   ...          arcs                         \n",
      "   str16        str256   float64 ...        float64           str1    int32\n",
      "------------ ----------- ------- ... --------------------- ---------- -----]\n",
      "24 : success\n",
      "25 : error\n"
     ]
    }
   ],
   "source": [
    "for i in range(len(data)):\n",
    "    try:\n",
    "        print data[i]\n",
    "        print i, ': success'\n",
    "    except:\n",
    "        print i, ': error'"
   ]
  },
  {
   "cell_type": "code",
   "execution_count": 6,
   "metadata": {
    "collapsed": false
   },
   "outputs": [
    {
     "data": {
      "text/plain": [
       "[['J2202+4216', 330.680380717, 42.277772208], <Table masked=True length=0>\n",
       " Project code Source name    RA   ... Largest angular scale QA2 Status  Pub \n",
       "                            deg   ...          arcs                         \n",
       "    str16        str256   float64 ...        float64           str1    int32\n",
       " ------------ ----------- ------- ... --------------------- ---------- -----]"
      ]
     },
     "execution_count": 6,
     "metadata": {},
     "output_type": "execute_result"
    }
   ],
   "source": [
    "data[4]"
   ]
  },
  {
   "cell_type": "markdown",
   "metadata": {},
   "source": [
    "Empty?"
   ]
  },
  {
   "cell_type": "code",
   "execution_count": null,
   "metadata": {
    "collapsed": true
   },
   "outputs": [],
   "source": []
  }
 ],
 "metadata": {
  "kernelspec": {
   "display_name": "Python 2",
   "language": "python",
   "name": "python2"
  },
  "language_info": {
   "codemirror_mode": {
    "name": "ipython",
    "version": 2
   },
   "file_extension": ".py",
   "mimetype": "text/x-python",
   "name": "python",
   "nbconvert_exporter": "python",
   "pygments_lexer": "ipython2",
   "version": "2.7.11"
  }
 },
 "nbformat": 4,
 "nbformat_minor": 0
}
